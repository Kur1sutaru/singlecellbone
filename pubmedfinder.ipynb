{
 "cells": [
  {
   "cell_type": "code",
   "execution_count": 3,
   "id": "643eb42b-d0d3-4484-be4b-c01950b7955b",
   "metadata": {},
   "outputs": [
    {
     "name": "stdout",
     "output_type": "stream",
     "text": [
      "Requirement already satisfied: requests in /opt/anaconda3/lib/python3.12/site-packages (2.32.2)\n",
      "Requirement already satisfied: charset-normalizer<4,>=2 in /opt/anaconda3/lib/python3.12/site-packages (from requests) (2.0.4)\n",
      "Requirement already satisfied: idna<4,>=2.5 in /opt/anaconda3/lib/python3.12/site-packages (from requests) (3.7)\n",
      "Requirement already satisfied: urllib3<3,>=1.21.1 in /opt/anaconda3/lib/python3.12/site-packages (from requests) (2.2.2)\n",
      "Requirement already satisfied: certifi>=2017.4.17 in /opt/anaconda3/lib/python3.12/site-packages (from requests) (2024.6.2)\n",
      "Note: you may need to restart the kernel to use updated packages.\n"
     ]
    }
   ],
   "source": [
    "pip install requests"
   ]
  },
  {
   "cell_type": "code",
   "execution_count": 5,
   "id": "e9f51712-2afc-4e95-9403-a0e2c8402758",
   "metadata": {},
   "outputs": [],
   "source": [
    "import requests\n",
    "from xml.etree import ElementTree"
   ]
  },
  {
   "cell_type": "code",
   "execution_count": 11,
   "id": "9033926c-e385-474d-8c1e-10deaa923887",
   "metadata": {},
   "outputs": [
    {
     "name": "stdout",
     "output_type": "stream",
     "text": [
      "Results have been saved to pubmed_results.tsv\n"
     ]
    }
   ],
   "source": [
    "\n",
    "\n",
    "# Define the base URL for E-utilities\n",
    "base_url = \"https://eutils.ncbi.nlm.nih.gov/entrez/eutils/\"\n",
    "\n",
    "# Define your search term\n",
    "search_term = \"RPL26 gene expression bone tissues calvaria longbone\"\n",
    "\n",
    "# Initialize a list to store the results\n",
    "results = []\n",
    "\n",
    "try:\n",
    "    # Perform the search\n",
    "    search_url = f\"{base_url}esearch.fcgi?db=pubmed&term={search_term}&retmax=10\"\n",
    "    response = requests.get(search_url)\n",
    "    response.raise_for_status()  # Check for HTTP errors\n",
    "    \n",
    "    root = ElementTree.fromstring(response.content)\n",
    "    pmids = [id_elem.text for id_elem in root.findall(\".//Id\")]\n",
    "\n",
    "    # Fetch details for each PMID\n",
    "    for pmid in pmids:\n",
    "        fetch_url = f\"{base_url}efetch.fcgi?db=pubmed&id={pmid}&retmode=xml\"\n",
    "        fetch_response = requests.get(fetch_url)\n",
    "        fetch_response.raise_for_status()  # Check for HTTP errors\n",
    "        \n",
    "        fetch_root = ElementTree.fromstring(fetch_response.content)\n",
    "        \n",
    "        # Extract the article title and abstract\n",
    "        title = fetch_root.find(\".//ArticleTitle\").text if fetch_root.find(\".//ArticleTitle\") is not None else \"No title found\"\n",
    "        abstract = fetch_root.find(\".//AbstractText\").text if fetch_root.find(\".//AbstractText\") is not None else \"No abstract found\"\n",
    "        \n",
    "        # Append the result to the list\n",
    "        results.append((pmid, title, abstract))\n",
    "\n",
    "except requests.exceptions.RequestException as e:\n",
    "    print(f\"An error occurred: {e}\")\n",
    "except ElementTree.ParseError as e:\n",
    "    print(f\"An error occurred while parsing XML: {e}\")\n",
    "\n",
    "# Save the results to a tab-separated file\n",
    "with open('pubmed_results.tsv', 'w') as f:\n",
    "    f.write(\"PMID\\tTitle\\tAbstract\\n\")\n",
    "    for pmid, title, abstract in results:\n",
    "        f.write(f\"{pmid}\\t{title}\\t{abstract}\\n\")\n",
    "\n",
    "print(\"Results have been saved to pubmed_results.tsv\")\n"
   ]
  },
  {
   "cell_type": "code",
   "execution_count": null,
   "id": "55908b66-2683-4b21-8314-85b81a143978",
   "metadata": {},
   "outputs": [],
   "source": []
  }
 ],
 "metadata": {
  "kernelspec": {
   "display_name": "Python 3 (ipykernel)",
   "language": "python",
   "name": "python3"
  },
  "language_info": {
   "codemirror_mode": {
    "name": "ipython",
    "version": 3
   },
   "file_extension": ".py",
   "mimetype": "text/x-python",
   "name": "python",
   "nbconvert_exporter": "python",
   "pygments_lexer": "ipython3",
   "version": "3.12.4"
  }
 },
 "nbformat": 4,
 "nbformat_minor": 5
}
